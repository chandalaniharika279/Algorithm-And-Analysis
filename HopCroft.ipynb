{
  "nbformat": 4,
  "nbformat_minor": 0,
  "metadata": {
    "colab": {
      "provenance": [],
      "authorship_tag": "ABX9TyNxS7LAslxcZbrj7SUYQos5",
      "include_colab_link": true
    },
    "kernelspec": {
      "name": "python3",
      "display_name": "Python 3"
    },
    "language_info": {
      "name": "python"
    }
  },
  "cells": [
    {
      "cell_type": "markdown",
      "metadata": {
        "id": "view-in-github",
        "colab_type": "text"
      },
      "source": [
        "<a href=\"https://colab.research.google.com/github/chandalaniharika279/Algorithm-And-Analysis/blob/Hop_craft/HopCroft.ipynb\" target=\"_parent\"><img src=\"https://colab.research.google.com/assets/colab-badge.svg\" alt=\"Open In Colab\"/></a>"
      ]
    },
    {
      "cell_type": "code",
      "execution_count": null,
      "metadata": {
        "id": "lC9yXh5ROtmB",
        "colab": {
          "base_uri": "https://localhost:8080/"
        },
        "outputId": "e72c55fd-1fb4-41c1-b960-9b444c2994a5"
      },
      "outputs": [
        {
          "output_type": "stream",
          "name": "stdout",
          "text": [
            "Maximum matching is 5\n"
          ]
        }
      ],
      "source": [
        "from queue import Queue\n",
        "INF = float('inf')\n",
        "NIL = 0\n",
        "\n",
        "class BipGraph(object):\n",
        "    def __init__(self, m, n):\n",
        "        self.__m = m\n",
        "        self.__n = n\n",
        "        self.__adj = [[] for _ in range(m+1)]\n",
        "        self.__pairU = [NIL] * (m+1)\n",
        "        self.__pairV = [NIL] * (n+1)\n",
        "        self.__dist = [0] * (m+1)\n",
        "\n",
        "    def addEdge(self, u, v):\n",
        "        self.__adj[u].append(v)\n",
        "\n",
        "    def bfs(self):\n",
        "        Q = Queue()\n",
        "        for u in range(1, self.__m + 1):\n",
        "            if self.__pairU[u] == NIL:\n",
        "                self.__dist[u] = 0\n",
        "                Q.put(u)\n",
        "            else:\n",
        "                self.__dist[u] = INF\n",
        "\n",
        "        self.__dist[NIL] = INF\n",
        "        while not Q.empty():\n",
        "            u = Q.get()\n",
        "            if self.__dist[u] < self.__dist[NIL]:\n",
        "                for v in self.__adj[u]:\n",
        "                    if self.__dist[self.__pairV[v]] == INF:\n",
        "                        self.__dist[self.__pairV[v]] = self.__dist[u] + 1\n",
        "                        Q.put(self.__pairV[v])\n",
        "\n",
        "        return self.__dist[NIL] != INF\n",
        "\n",
        "    def dfs(self, u):\n",
        "        if u != NIL:\n",
        "            for v in self.__adj[u]:\n",
        "                if self.__dist[self.__pairV[v]] == self.__dist[u] + 1:\n",
        "                    if self.dfs(self.__pairV[v]):\n",
        "                        self.__pairV[v] = u\n",
        "                        self.__pairU[u] = v\n",
        "                        return True\n",
        "            self.__dist[u] = INF\n",
        "            return False\n",
        "        return True\n",
        "\n",
        "    def hopcroftKarp(self):\n",
        "        matching = 0\n",
        "        while self.bfs():\n",
        "            for u in range(1, self.__m + 1):\n",
        "                if self.__pairU[u] == NIL:\n",
        "                    if self.dfs(u):\n",
        "                        matching += 1\n",
        "\n",
        "        return matching\n",
        "\n",
        "m = 5\n",
        "n = 5\n",
        "g = BipGraph(m, n)\n",
        "g.addEdge(1, 4)\n",
        "g.addEdge(1, 2)\n",
        "g.addEdge(1, 3)\n",
        "g.addEdge(2, 1)\n",
        "g.addEdge(3, 5)\n",
        "g.addEdge(4, 3)\n",
        "g.addEdge(4, 1)\n",
        "g.addEdge(4, 5)\n",
        "g.addEdge(5, 2)\n",
        "\n",
        "\n",
        "print(\"Maximum matching is\", g.hopcroftKarp())  # Output should be the size of the maximum matching"
      ]
    }
  ]
}