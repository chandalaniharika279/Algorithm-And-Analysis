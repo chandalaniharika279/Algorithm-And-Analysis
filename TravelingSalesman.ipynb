{
  "nbformat": 4,
  "nbformat_minor": 0,
  "metadata": {
    "colab": {
      "provenance": [],
      "authorship_tag": "ABX9TyMyJwNbBP1/bBqMxS1W+tG0",
      "include_colab_link": true
    },
    "kernelspec": {
      "name": "python3",
      "display_name": "Python 3"
    },
    "language_info": {
      "name": "python"
    }
  },
  "cells": [
    {
      "cell_type": "markdown",
      "metadata": {
        "id": "view-in-github",
        "colab_type": "text"
      },
      "source": [
        "<a href=\"https://colab.research.google.com/github/chandalaniharika279/Algorithm-And-Analysis/blob/Traveling_salesman/TravelingSalesman.ipynb\" target=\"_parent\"><img src=\"https://colab.research.google.com/assets/colab-badge.svg\" alt=\"Open In Colab\"/></a>"
      ]
    },
    {
      "cell_type": "code",
      "execution_count": null,
      "metadata": {
        "colab": {
          "base_uri": "https://localhost:8080/"
        },
        "id": "n0Z662snj-on",
        "outputId": "f6683a8d-e3bd-4122-f54f-c84ad61fae25"
      },
      "outputs": [
        {
          "output_type": "stream",
          "name": "stdout",
          "text": [
            "Minimum cost to visit all cities: 67\n"
          ]
        }
      ],
      "source": [
        "import sys\n",
        "\n",
        "def traveling_salesman(dist):\n",
        "    n = len(dist)\n",
        "    ALL_VISITED = (1 << n) - 1\n",
        "    dp = [[-1] * n for _ in range(1 << n)]\n",
        "    def tsp(mask, pos):0\n",
        "        if mask == ALL_VISITED:\n",
        "            return dist[pos][0]\n",
        "        if dp[mask][pos] != -1:\n",
        "            return dp[mask][pos]\n",
        "        min_cost = sys.maxsize\n",
        "        for city in range(n):\n",
        "            if mask & (1 << city) == 0:\n",
        "                new_cost = dist[pos][city] + tsp(mask | (1 << city), city)\n",
        "                min_cost = min(min_cost, new_cost)\n",
        "        dp[mask][pos] = min_cost\n",
        "        return min_cost\n",
        "    return tsp(1, 0)\n",
        "\n",
        "dist = [\n",
        "    [0, 10, 60, 20, 25],\n",
        "    [10, 0, 35, 25, 30],\n",
        "    [18, 22, 0, 30, 52],\n",
        "    [20, 25, 26, 0, 10],\n",
        "    [25, 30, 5, 10, 0]\n",
        "]\n",
        "\n",
        "print(f\"Minimum cost to visit all cities: {traveling_salesman(dist)}\")"
      ]
    },
    {
      "cell_type": "code",
      "source": [
        "import numpy as np\n",
        "\n",
        "def reliability_in_series(reliabilities):\n",
        "    return np.prod(reliabilities)\n",
        "\n",
        "def reliability_in_parallel(reliabilities):\n",
        "    return 1 - np.prod(1 - np.array(reliabilities))\n",
        "\n",
        "def max_reliability(components):\n",
        "    n = len(components)\n",
        "    dp = [0] * (n + 1)\n",
        "    dp[0] = 1\n",
        "    for i in range(1, n + 1):\n",
        "        for j in range(i):\n",
        "            series_reliability = reliability_in_series(components[j:i])\n",
        "            dp[i] = max(dp[i], dp[j] * series_reliability)\n",
        "            parallel_reliability = reliability_in_parallel(components[j:i])\n",
        "            dp[i] = max(dp[i], dp[j] * parallel_reliability)\n",
        "\n",
        "    return dp[n]\n",
        "components_reliabilities = [0.75, 0.80, 0.90, 0.80]\n",
        "max_reliability_value = max_reliability(components_reliabilities)\n",
        "\n",
        "print(f\"Maximum system reliability: {max_reliability_value:.4f}\")"
      ],
      "metadata": {
        "colab": {
          "base_uri": "https://localhost:8080/"
        },
        "id": "riRfwBYQynVM",
        "outputId": "d422e8df-1fda-4f61-d071-831235ce556c"
      },
      "execution_count": null,
      "outputs": [
        {
          "output_type": "stream",
          "name": "stdout",
          "text": [
            "Maximum system reliability: 0.9990\n"
          ]
        }
      ]
    },
    {
      "cell_type": "code",
      "source": [
        "import numpy as np\n",
        "\n",
        "def multi_stage_graph(graph, n, start, end):\n",
        "    dp = [float('inf')] * n\n",
        "    dp[start] = 0\n",
        "    for stage in range(start, end):\n",
        "        for next_node in range(n):\n",
        "            if graph[stage][next_node] != float('inf'):\n",
        "                dp[next_node] = min(dp[next_node], dp[stage] + graph[stage][next_node])\n",
        "    return dp[end]\n",
        "n = 6\n",
        "\n",
        "graph = [\n",
        "    [0, 2, 4, float('inf'), float('inf'), float('inf')],\n",
        "    [float('inf'), 0, 1, 7, 8, float('inf')],\n",
        "    [float('inf'), float('inf'), 0, 3, 5, float('inf')],\n",
        "    [float('inf'), float('inf'), float('inf'), 0, float('inf'), 2],\n",
        "    [float('inf'), float('inf'), float('inf'), float('inf'), 0, 2],\n",
        "    [float('inf'), float('inf'), float('inf'), float('inf'), float('inf'), 0]]\n",
        "start_node = 0\n",
        "end_node = 5\n",
        "min_cost = multi_stage_graph(graph, n, start_node, end_node)\n",
        "\n",
        "print(f\"The minimum cost from node {start_node} to node {end_node} is: {min_cost}\")\n"
      ],
      "metadata": {
        "colab": {
          "base_uri": "https://localhost:8080/"
        },
        "id": "4KVeZVEQ4qPg",
        "outputId": "7298bb95-9d4e-45bc-8cd1-62d4f72bec1c"
      },
      "execution_count": null,
      "outputs": [
        {
          "output_type": "stream",
          "name": "stdout",
          "text": [
            "The minimum cost from node 0 to node 5 is: 8\n"
          ]
        }
      ]
    }
  ]
}