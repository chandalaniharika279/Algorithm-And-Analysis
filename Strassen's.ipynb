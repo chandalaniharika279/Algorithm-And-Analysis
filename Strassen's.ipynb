{
  "nbformat": 4,
  "nbformat_minor": 0,
  "metadata": {
    "colab": {
      "provenance": [],
      "authorship_tag": "ABX9TyOwTyHSksbOYyuEyrvdfDnS",
      "include_colab_link": true
    },
    "kernelspec": {
      "name": "python3",
      "display_name": "Python 3"
    },
    "language_info": {
      "name": "python"
    }
  },
  "cells": [
    {
      "cell_type": "markdown",
      "metadata": {
        "id": "view-in-github",
        "colab_type": "text"
      },
      "source": [
        "<a href=\"https://colab.research.google.com/github/chandalaniharika279/Algorithm-And-Analysis/blob/Strassen's/Strassen's.ipynb\" target=\"_parent\"><img src=\"https://colab.research.google.com/assets/colab-badge.svg\" alt=\"Open In Colab\"/></a>"
      ]
    },
    {
      "cell_type": "code",
      "execution_count": null,
      "metadata": {
        "colab": {
          "base_uri": "https://localhost:8080/"
        },
        "id": "IZw5TL2HN4Ir",
        "outputId": "12d604b2-e7d8-406f-b5c3-a08d7f83e688"
      },
      "outputs": [
        {
          "output_type": "stream",
          "name": "stdout",
          "text": [
            "Matrix A:\n",
            "[[ 1  2  3  4]\n",
            " [ 5  6  7  8]\n",
            " [ 9 10 11 12]\n",
            " [13 14 15 16]]\n",
            "\n",
            "Matrix B:\n",
            "[[16 15 14 13]\n",
            " [12 11 10  9]\n",
            " [ 8  7  6  5]\n",
            " [ 4  3  2  1]]\n",
            "\n",
            "Result of Matrix Multiplication:\n",
            "None\n"
          ]
        }
      ],
      "source": [
        "import numpy as np\n",
        "def split(matrix):\n",
        "  row,col = matrix.shape\n",
        "  row2,col2 = row//2,col//2\n",
        "  return matrix[:row2,:col2],matrix[:row2,col2:],matrix[row2:,:col2],matrix[row2:,col2:]\n",
        "def strassen(A,B):\n",
        "  if A.shape[0] == 1:\n",
        "    return A*B\n",
        "    A11,A12,A21,A22 = split(A)\n",
        "    B11,B12,B21,B22 = split(B)\n",
        "    M1=strassen(A11+A22,B11+B22)\n",
        "    M2=strassen(A21+A22,B11)\n",
        "    M3=strassen(A11,B12-B22)\n",
        "    M4=strassen(A22,B21-B11)\n",
        "    M5=strassen(A11+A12,B22)\n",
        "    M6=strassen(A21-A11,B11+B12)\n",
        "    M7=strassen(A12-A22,B21+B22)\n",
        "    C11=M1+M4-M5+M7\n",
        "    C12=M3+M5\n",
        "    C21=M2+M4\n",
        "    C22=M1+M3-M2+M6\n",
        "    top=np.hstack((C11,C12))\n",
        "    bottom=np.hstack((C21,C22))\n",
        "    return np.vstack((top,bottom))\n",
        "def multiply_strassen_4X4(A,B):\n",
        "  assert A.shape == (4,4) and B.shape == (4,4), \"Both matrices must be 4*4\"\n",
        "  return strassen(A,B)\n",
        "A=np.array([[1,2,3,4],\n",
        "           [5,6,7,8],\n",
        "            [9,10,11,12],\n",
        "            [13,14,15,16]])\n",
        "B=np.array([[16,15,14,13],\n",
        "           [12,11,10,9],\n",
        "            [8,7,6,5],\n",
        "            [4,3,2,1]])\n",
        "result=multiply_strassen_4X4(A,B)\n",
        "\n",
        "\n",
        "print(\"Matrix A:\")\n",
        "print(A)\n",
        "print(\"\\nMatrix B:\")\n",
        "print(B)\n",
        "print(\"\\nResult of Matrix Multiplication:\")\n",
        "print(result)"
      ]
    }
  ]
}