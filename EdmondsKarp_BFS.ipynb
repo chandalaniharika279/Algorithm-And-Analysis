{
  "nbformat": 4,
  "nbformat_minor": 0,
  "metadata": {
    "colab": {
      "provenance": [],
      "authorship_tag": "ABX9TyNs+0Nm134gcySgm7ipOM8n",
      "include_colab_link": true
    },
    "kernelspec": {
      "name": "python3",
      "display_name": "Python 3"
    },
    "language_info": {
      "name": "python"
    }
  },
  "cells": [
    {
      "cell_type": "markdown",
      "metadata": {
        "id": "view-in-github",
        "colab_type": "text"
      },
      "source": [
        "<a href=\"https://colab.research.google.com/github/chandalaniharika279/Algorithm-And-Analysis/blob/Edmondskarp-bfs/EdmondsKarp_BFS.ipynb\" target=\"_parent\"><img src=\"https://colab.research.google.com/assets/colab-badge.svg\" alt=\"Open In Colab\"/></a>"
      ]
    },
    {
      "cell_type": "code",
      "execution_count": null,
      "metadata": {
        "colab": {
          "base_uri": "https://localhost:8080/"
        },
        "id": "H1biLMbZgwIp",
        "outputId": "502fa66c-db0b-4f0e-dcf9-bc88a9639a39"
      },
      "outputs": [
        {
          "output_type": "stream",
          "name": "stdout",
          "text": [
            "The maximum possible flow is 23\n",
            "The edges in the minimum cut are: []\n"
          ]
        }
      ],
      "source": [
        "from collections import deque\n",
        "\n",
        "\n",
        "def bfs(capacity, source, sink, parent):\n",
        "    visited = [False] * len(capacity)\n",
        "    queue = deque([source])\n",
        "    visited[source] = True\n",
        "\n",
        "    while queue:\n",
        "        u = queue.popleft()\n",
        "\n",
        "        for v, cap in enumerate(capacity[u]):\n",
        "            if not visited[v] and cap > 0:\n",
        "                queue.append(v)\n",
        "                visited[v] = True\n",
        "                parent[v] = u\n",
        "                if v == sink:\n",
        "                    return True\n",
        "\n",
        "    return False\n",
        "def edmonds_karp(capacity, source, sink):\n",
        "    n = len(capacity)\n",
        "    parent = [-1] * n\n",
        "    max_flow = 0\n",
        "\n",
        "    while bfs(capacity, source, sink, parent):\n",
        "        path_flow = float('Inf')\n",
        "        s = sink\n",
        "\n",
        "        while s != source:\n",
        "            path_flow = min(path_flow, capacity[parent[s]][s])\n",
        "            s = parent[s]\n",
        "        v = sink\n",
        "        while v != source:\n",
        "            u = parent[v]\n",
        "            capacity[u][v] -= path_flow\n",
        "            capacity[v][u] += path_flow\n",
        "            v = parent[v]\n",
        "        max_flow += path_flow\n",
        "    return max_flow\n",
        "def bfs_reachable(capacity, source):\n",
        "    visited = [False] * len(capacity)\n",
        "    queue = deque([source])\n",
        "    visited[source] = True\n",
        "\n",
        "    while queue:\n",
        "        u = queue.popleft()\n",
        "        for v, cap in enumerate(capacity[u]):\n",
        "            if not visited[v] and cap > 0:\n",
        "                queue.append(v)\n",
        "                visited[v] = True\n",
        "    return visited\n",
        "def min_cut(capacity, source, sink):\n",
        "    max_flow = edmonds_karp(capacity, source, sink)\n",
        "    reachable = bfs_reachable(capacity, source)\n",
        "    cut_edges = []\n",
        "    for u in range(len(capacity)):\n",
        "        for v in range(len(capacity[u])):\n",
        "            if reachable[u] and not reachable[v] and capacity[u][v] > 0:\n",
        "                cut_edges.append((u, v))\n",
        "\n",
        "    return max_flow, cut_edges\n",
        "if __name__ == \"__main__\":\n",
        "    # Example capacity graph (adjacency matrix)\n",
        "    capacity = [[0, 16, 13, 0, 0, 0],\n",
        "                [0, 0, 10, 12, 0, 0],\n",
        "                [0, 4, 0, 0, 14, 0],\n",
        "                [0, 0, 9, 0, 0, 20],\n",
        "                [0, 0, 0, 7, 0, 4],\n",
        "                [0, 0, 0, 0, 0, 0]]\n",
        "\n",
        "    source = 0  # Source node\n",
        "    sink = 5    # Sink node\n",
        "\n",
        "    max_flow, cut_edges = min_cut(capacity, source, sink)\n",
        "\n",
        "    print(f\"The maximum possible flow is {max_flow}\")\n",
        "    print(f\"The edges in the minimum cut are: {cut_edges}\")"
      ]
    }
  ]
}