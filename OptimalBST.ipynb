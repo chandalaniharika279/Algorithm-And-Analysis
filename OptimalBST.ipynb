{
  "nbformat": 4,
  "nbformat_minor": 0,
  "metadata": {
    "colab": {
      "provenance": [],
      "authorship_tag": "ABX9TyPSXH0D8BtCEJ1+RJcGEmYe",
      "include_colab_link": true
    },
    "kernelspec": {
      "name": "python3",
      "display_name": "Python 3"
    },
    "language_info": {
      "name": "python"
    }
  },
  "cells": [
    {
      "cell_type": "markdown",
      "metadata": {
        "id": "view-in-github",
        "colab_type": "text"
      },
      "source": [
        "<a href=\"https://colab.research.google.com/github/chandalaniharika279/Algorithm-And-Analysis/blob/optimalBST/OptimalBST.ipynb\" target=\"_parent\"><img src=\"https://colab.research.google.com/assets/colab-badge.svg\" alt=\"Open In Colab\"/></a>"
      ]
    },
    {
      "cell_type": "code",
      "source": [
        "def optimal_bst(keys, probs):\n",
        "    n = len(keys)\n",
        "\n",
        "    # Create the e and w tables\n",
        "    e = [[0 for _ in range(n)] for _ in range(n)]  # e[i][j] will store the minimum cost for keys i to j\n",
        "    w = [[0 for _ in range(n)] for _ in range(n)]  # w[i][j] will store the sum of probabilities for keys i to j\n",
        "\n",
        "    # Base case: when there's only one key, the cost is just the probability of that key\n",
        "    for i in range(n):\n",
        "        e[i][i] = probs[i]\n",
        "        w[i][i] = probs[i]\n",
        "\n",
        "    # Fill in the tables for larger subtrees\n",
        "    for length in range(2, n+1):  # length is the number of keys in the subtree\n",
        "        for i in range(n-length+1):  # i is the start index of the current subtree\n",
        "            j = i + length - 1  # j is the end index of the current subtree\n",
        "            w[i][j] = w[i][j-1] + probs[j]  # Update the total probability for keys i to j\n",
        "\n",
        "            # Find the optimal root for the current subtree\n",
        "            e[i][j] = float('inf')\n",
        "            for r in range(i, j+1):  # r is the root of the current subtree\n",
        "                # Calculate the cost if root is r\n",
        "                cost = (e[i][r-1] if r > i else 0) + (e[r+1][j] if r < j else 0) + w[i][j]\n",
        "                e[i][j] = min(e[i][j], cost)  # Update the minimum cost for the subtree\n",
        "\n",
        "    return e[0][n-1]  # The minimum cost for the entire set of keys\n",
        "\n",
        "# Example usage:\n",
        "keys = [10, 12, 20]\n",
        "probs = [0.1, 0.4, 0.5]\n",
        "\n",
        "min_cost = optimal_bst(keys, probs)\n",
        "print(f\"Optimal BST Cost: {min_cost}\")"
      ],
      "metadata": {
        "colab": {
          "base_uri": "https://localhost:8080/"
        },
        "id": "Vo02_9PKojNk",
        "outputId": "5e5cba37-e3ad-4557-c9ff-688b48a3f1aa"
      },
      "execution_count": null,
      "outputs": [
        {
          "output_type": "stream",
          "name": "stdout",
          "text": [
            "Optimal BST Cost: 1.6\n"
          ]
        }
      ]
    }
  ]
}